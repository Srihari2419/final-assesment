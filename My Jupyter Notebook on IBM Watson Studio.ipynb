{
 "cells": [
  {
   "cell_type": "markdown",
   "id": "c0c16843-5000-41b5-8349-3a6b6839a825",
   "metadata": {},
   "source": [
    " # My Jupyter Notebook on IBM Watson Studio"
   ]
  },
  {
   "cell_type": "markdown",
   "id": "37a30d9d-8dbd-4746-b250-1507fd4cbcb7",
   "metadata": {},
   "source": [
    "**Srihari**"
   ]
  },
  {
   "cell_type": "markdown",
   "id": "ea2f7372-1928-4f31-95d6-cb2db4446c0d",
   "metadata": {},
   "source": [
    "My current occupation is Data Science Intern"
   ]
  },
  {
   "cell_type": "markdown",
   "id": "ab3d7a40-d4d5-4f8d-a70d-79fb7e05f102",
   "metadata": {},
   "source": [
    "*I am interested in data science because i love to play with data*"
   ]
  },
  {
   "cell_type": "markdown",
   "id": "7d2c3259-8c53-4357-a4b4-64f2a34c168b",
   "metadata": {},
   "source": [
    "### The next code is supposed to"
   ]
  },
  {
   "cell_type": "code",
   "execution_count": 1,
   "id": "cd7f14fc-2530-460c-8c22-227df6c3535f",
   "metadata": {},
   "outputs": [
    {
     "name": "stdout",
     "output_type": "stream",
     "text": [
      "0\n",
      "1\n",
      "2\n",
      "3\n",
      "4\n"
     ]
    }
   ],
   "source": [
    "for i in range(5):\n",
    "    print(i)"
   ]
  },
  {
   "cell_type": "markdown",
   "id": "98976805-1f49-41c3-991c-c8c2ccf5c311",
   "metadata": {},
   "source": [
    "Here is the list\n",
    "- list1\n",
    "- list2\n",
    "- list3\n",
    "\n",
    "| S.No | Name    | Type |\n",
    "| ---- |:-------:| ---- |\n",
    "| 1    | sample  | int  |\n",
    "| 2    | sample2 | int  |\n",
    "\n",
    ">writing in blockquotes"
   ]
  },
  {
   "cell_type": "code",
   "execution_count": null,
   "id": "b4fc28dd-5e38-43ab-8dea-433ef53ab262",
   "metadata": {},
   "outputs": [],
   "source": []
  }
 ],
 "metadata": {
  "kernelspec": {
   "display_name": "Python",
   "language": "python",
   "name": "conda-env-python-py"
  },
  "language_info": {
   "codemirror_mode": {
    "name": "ipython",
    "version": 3
   },
   "file_extension": ".py",
   "mimetype": "text/x-python",
   "name": "python",
   "nbconvert_exporter": "python",
   "pygments_lexer": "ipython3",
   "version": "3.7.12"
  }
 },
 "nbformat": 4,
 "nbformat_minor": 5
}
